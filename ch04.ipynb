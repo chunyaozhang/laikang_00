{
 "cells": [
  {
   "cell_type": "markdown",
   "id": "4454801b",
   "metadata": {},
   "source": [
    "# CHAPTER 4 NumPy Basics: Arrays and Vectorized Computation"
   ]
  },
  {
   "cell_type": "markdown",
   "id": "f7dfb237",
   "metadata": {},
   "source": [
    "To give you an idea of the performance difference, consider a NumPy array of one\n",
    "million integers, and the equivalent Python list:"
   ]
  },
  {
   "cell_type": "code",
   "execution_count": 2,
   "id": "be1dc74e",
   "metadata": {},
   "outputs": [],
   "source": [
    "import numpy as np\n",
    "\n",
    "my_arr = np.arange(1000000)\n",
    "my_list = list(range(1000000))"
   ]
  },
  {
   "cell_type": "code",
   "execution_count": 3,
   "id": "6fabf38e",
   "metadata": {},
   "outputs": [
    {
     "name": "stdout",
     "output_type": "stream",
     "text": [
      "Wall time: 16 ms\n"
     ]
    }
   ],
   "source": [
    "%time for i in range(10):my_arr2 = my_arr *2"
   ]
  },
  {
   "cell_type": "code",
   "execution_count": 4,
   "id": "3b587301",
   "metadata": {},
   "outputs": [
    {
     "name": "stdout",
     "output_type": "stream",
     "text": [
      "Wall time: 18.9 ms\n"
     ]
    }
   ],
   "source": [
    "%time for _ in range(10): my_arr2 = my_arr * 2"
   ]
  },
  {
   "cell_type": "code",
   "execution_count": 5,
   "id": "c93f401c",
   "metadata": {},
   "outputs": [
    {
     "name": "stdout",
     "output_type": "stream",
     "text": [
      "Wall time: 780 ms\n"
     ]
    }
   ],
   "source": [
    "%time for i in range(10): my_list2 = [x *2 for x in my_list]"
   ]
  },
  {
   "cell_type": "markdown",
   "id": "88be3642",
   "metadata": {},
   "source": [
    "NumPy-based algorithms are generally 10 to 100 times faster (or more) than their\n",
    "pure Python counterparts and use significantly less memory."
   ]
  },
  {
   "cell_type": "markdown",
   "id": "e4b30a5a",
   "metadata": {},
   "source": [
    "## 4.1 The NumPy ndarray: A Multidimensional Array Object "
   ]
  },
  {
   "cell_type": "code",
   "execution_count": 6,
   "id": "35d8e0ac",
   "metadata": {},
   "outputs": [
    {
     "data": {
      "text/plain": [
       "array([[ 1.19716046, -0.95962394, -1.27889673],\n",
       "       [ 0.21382759, -1.85206261,  1.38007697]])"
      ]
     },
     "execution_count": 6,
     "metadata": {},
     "output_type": "execute_result"
    }
   ],
   "source": [
    "data = np.random.randn(2,3)\n",
    "data"
   ]
  },
  {
   "cell_type": "code",
   "execution_count": 7,
   "id": "2ce40998",
   "metadata": {},
   "outputs": [
    {
     "data": {
      "text/plain": [
       "array([[ 11.97160463,  -9.59623936, -12.78896728],\n",
       "       [  2.1382759 , -18.52062615,  13.80076968]])"
      ]
     },
     "execution_count": 7,
     "metadata": {},
     "output_type": "execute_result"
    }
   ],
   "source": [
    "data*10"
   ]
  },
  {
   "cell_type": "code",
   "execution_count": 8,
   "id": "fe58fabd",
   "metadata": {},
   "outputs": [
    {
     "data": {
      "text/plain": [
       "array([[ 2.39432093, -1.91924787, -2.55779346],\n",
       "       [ 0.42765518, -3.70412523,  2.76015394]])"
      ]
     },
     "execution_count": 8,
     "metadata": {},
     "output_type": "execute_result"
    }
   ],
   "source": [
    "data + data"
   ]
  },
  {
   "cell_type": "markdown",
   "id": "5e21323b",
   "metadata": {},
   "source": [
    "An ndarray is a generic multidimensional container for homogeneous data; that is, all\n",
    "of the elements must be the same type."
   ]
  },
  {
   "cell_type": "code",
   "execution_count": 9,
   "id": "97147eb0",
   "metadata": {},
   "outputs": [
    {
     "data": {
      "text/plain": [
       "(2, 3)"
      ]
     },
     "execution_count": 9,
     "metadata": {},
     "output_type": "execute_result"
    }
   ],
   "source": [
    "data.shape"
   ]
  },
  {
   "cell_type": "code",
   "execution_count": 10,
   "id": "2077506b",
   "metadata": {},
   "outputs": [
    {
     "data": {
      "text/plain": [
       "dtype('float64')"
      ]
     },
     "execution_count": 10,
     "metadata": {},
     "output_type": "execute_result"
    }
   ],
   "source": [
    "data.dtype"
   ]
  },
  {
   "cell_type": "markdown",
   "id": "c8ff4c00",
   "metadata": {},
   "source": [
    "###  Creating ndarrays"
   ]
  },
  {
   "cell_type": "code",
   "execution_count": 11,
   "id": "ccca2d84",
   "metadata": {},
   "outputs": [
    {
     "data": {
      "text/plain": [
       "array([6. , 7.5, 8. , 0. , 1. ])"
      ]
     },
     "execution_count": 11,
     "metadata": {},
     "output_type": "execute_result"
    }
   ],
   "source": [
    "data1= [6,7.5,8,0,1]\n",
    "arr1 = np.array(data1)\n",
    "arr1"
   ]
  },
  {
   "cell_type": "code",
   "execution_count": 12,
   "id": "3347ecf6",
   "metadata": {},
   "outputs": [
    {
     "data": {
      "text/plain": [
       "array([[1, 2, 3, 4],\n",
       "       [5, 6, 7, 8]])"
      ]
     },
     "execution_count": 12,
     "metadata": {},
     "output_type": "execute_result"
    }
   ],
   "source": [
    "data2= [[1, 2, 3, 4], [5, 6, 7, 8]]\n",
    "arr2 = np.array(data2)\n",
    "arr2"
   ]
  },
  {
   "cell_type": "code",
   "execution_count": 13,
   "id": "5d0cddd5",
   "metadata": {},
   "outputs": [
    {
     "data": {
      "text/plain": [
       "2"
      ]
     },
     "execution_count": 13,
     "metadata": {},
     "output_type": "execute_result"
    }
   ],
   "source": [
    "arr2.ndim # 几维？"
   ]
  },
  {
   "cell_type": "code",
   "execution_count": 14,
   "id": "80cb21f6",
   "metadata": {},
   "outputs": [
    {
     "data": {
      "text/plain": [
       "(2, 4)"
      ]
     },
     "execution_count": 14,
     "metadata": {},
     "output_type": "execute_result"
    }
   ],
   "source": [
    "arr2.shape"
   ]
  },
  {
   "cell_type": "code",
   "execution_count": 15,
   "id": "f7681117",
   "metadata": {},
   "outputs": [
    {
     "data": {
      "text/plain": [
       "array([0., 0., 0., 0., 0., 0., 0., 0., 0., 0.])"
      ]
     },
     "execution_count": 15,
     "metadata": {},
     "output_type": "execute_result"
    }
   ],
   "source": [
    "# zeros and ones create arrays of 0s or 1s\n",
    "np.zeros(10)"
   ]
  },
  {
   "cell_type": "code",
   "execution_count": 16,
   "id": "49beb5a0",
   "metadata": {},
   "outputs": [
    {
     "data": {
      "text/plain": [
       "array([[0., 0., 0.],\n",
       "       [0., 0., 0.]])"
      ]
     },
     "execution_count": 16,
     "metadata": {},
     "output_type": "execute_result"
    }
   ],
   "source": [
    "np.zeros((2,3))"
   ]
  },
  {
   "cell_type": "code",
   "execution_count": 17,
   "id": "d836e2ee",
   "metadata": {},
   "outputs": [
    {
     "data": {
      "text/plain": [
       "array([[1., 1., 1.],\n",
       "       [1., 1., 1.]])"
      ]
     },
     "execution_count": 17,
     "metadata": {},
     "output_type": "execute_result"
    }
   ],
   "source": [
    "np.ones((2,3))"
   ]
  },
  {
   "cell_type": "code",
   "execution_count": 18,
   "id": "be69046e",
   "metadata": {},
   "outputs": [
    {
     "data": {
      "text/plain": [
       "array([[[9.64800086e-312, 3.16202013e-322],\n",
       "        [0.00000000e+000, 0.00000000e+000],\n",
       "        [6.23053953e-307, 3.92574739e+179]],\n",
       "\n",
       "       [[1.60274246e-051, 1.00389035e-042],\n",
       "        [1.13053667e-042, 5.98443718e+174],\n",
       "        [1.73997681e+184, 4.50642136e+174]]])"
      ]
     },
     "execution_count": 18,
     "metadata": {},
     "output_type": "execute_result"
    }
   ],
   "source": [
    "# empty creates an array without initializing its values to any particular value.\n",
    "np.empty((2, 3, 2))"
   ]
  },
  {
   "cell_type": "code",
   "execution_count": 19,
   "id": "96208692",
   "metadata": {},
   "outputs": [
    {
     "data": {
      "text/plain": [
       "array([ 0,  1,  2,  3,  4,  5,  6,  7,  8,  9, 10, 11, 12, 13, 14])"
      ]
     },
     "execution_count": 19,
     "metadata": {},
     "output_type": "execute_result"
    }
   ],
   "source": [
    "# arange is an array-valued version of the built-in Python range function:\n",
    "np.arange(15)"
   ]
  },
  {
   "cell_type": "markdown",
   "id": "7ce4ed61",
   "metadata": {},
   "source": [
    "### Data Types for ndarrays"
   ]
  },
  {
   "cell_type": "code",
   "execution_count": 20,
   "id": "70ae90e6",
   "metadata": {},
   "outputs": [
    {
     "name": "stdout",
     "output_type": "stream",
     "text": [
      "float64\n",
      "int32\n"
     ]
    }
   ],
   "source": [
    "arr1 = np.array([1, 2, 3], dtype=np.float64)\n",
    "arr2 = np.array([1, 2, 3], dtype=np.int32)\n",
    "print(arr1.dtype)\n",
    "print(arr2.dtype)"
   ]
  },
  {
   "cell_type": "code",
   "execution_count": 21,
   "id": "41dadc9b",
   "metadata": {},
   "outputs": [
    {
     "data": {
      "text/plain": [
       "dtype('int32')"
      ]
     },
     "execution_count": 21,
     "metadata": {},
     "output_type": "execute_result"
    }
   ],
   "source": [
    " arr = np.array([1, 2, 3, 4, 5])\n",
    "arr.dtype"
   ]
  },
  {
   "cell_type": "code",
   "execution_count": 22,
   "id": "3914f587",
   "metadata": {},
   "outputs": [
    {
     "data": {
      "text/plain": [
       "dtype('float64')"
      ]
     },
     "execution_count": 22,
     "metadata": {},
     "output_type": "execute_result"
    }
   ],
   "source": [
    "float_arr = arr.astype(np.float64)\n",
    "float_arr.dtype"
   ]
  },
  {
   "cell_type": "code",
   "execution_count": 23,
   "id": "025e23cb",
   "metadata": {},
   "outputs": [
    {
     "data": {
      "text/plain": [
       "array([ 3, -1, -2,  0, 12, 10])"
      ]
     },
     "execution_count": 23,
     "metadata": {},
     "output_type": "execute_result"
    }
   ],
   "source": [
    "arr = np.array([3.7, -1.2, -2.6, 0.5, 12.9, 10.1])\n",
    "arr.astype(np.int32)"
   ]
  },
  {
   "cell_type": "code",
   "execution_count": 24,
   "id": "c7cf4446",
   "metadata": {},
   "outputs": [],
   "source": [
    "numeric_strings = np.array(['1.25', '-9.6', '42'], dtype = np.string_)"
   ]
  },
  {
   "cell_type": "code",
   "execution_count": 25,
   "id": "c9c9d971",
   "metadata": {},
   "outputs": [
    {
     "data": {
      "text/plain": [
       "array([ 1.25, -9.6 , 42.  ])"
      ]
     },
     "execution_count": 25,
     "metadata": {},
     "output_type": "execute_result"
    }
   ],
   "source": [
    "numeric_strings.astype(float)"
   ]
  },
  {
   "cell_type": "code",
   "execution_count": 26,
   "id": "3a30bc26",
   "metadata": {},
   "outputs": [
    {
     "data": {
      "text/plain": [
       "array([0., 1., 2., 3., 4., 5., 6., 7., 8., 9.])"
      ]
     },
     "execution_count": 26,
     "metadata": {},
     "output_type": "execute_result"
    }
   ],
   "source": [
    "int_array = np.arange(10)\n",
    "calibers = np.array([.22, .270, .357, .380, .44, .50], dtype=np.float64)\n",
    "int_array.astype(calibers.dtype)"
   ]
  },
  {
   "cell_type": "code",
   "execution_count": 27,
   "id": "f8906024",
   "metadata": {},
   "outputs": [
    {
     "data": {
      "text/plain": [
       "array([         0, 1075314688,          0, 1075707904,          0,\n",
       "       1075838976,          0, 1072693248], dtype=uint32)"
      ]
     },
     "execution_count": 27,
     "metadata": {},
     "output_type": "execute_result"
    }
   ],
   "source": [
    "empty_uint32 = np.empty(8, dtype='u4')\n",
    "empty_uint32"
   ]
  },
  {
   "cell_type": "markdown",
   "id": "f9b28a0d",
   "metadata": {},
   "source": [
    "###  Arithmetic with NumPy Arrays"
   ]
  },
  {
   "cell_type": "code",
   "execution_count": 28,
   "id": "eb6c00d9",
   "metadata": {},
   "outputs": [
    {
     "data": {
      "text/plain": [
       "array([[1., 2., 3.],\n",
       "       [4., 5., 6.]])"
      ]
     },
     "execution_count": 28,
     "metadata": {},
     "output_type": "execute_result"
    }
   ],
   "source": [
    "arr = np.array([[1., 2., 3.], [4., 5., 6.]])\n",
    "arr"
   ]
  },
  {
   "cell_type": "code",
   "execution_count": 29,
   "id": "ffa6a199",
   "metadata": {},
   "outputs": [
    {
     "data": {
      "text/plain": [
       "array([[ 1.,  4.,  9.],\n",
       "       [16., 25., 36.]])"
      ]
     },
     "execution_count": 29,
     "metadata": {},
     "output_type": "execute_result"
    }
   ],
   "source": [
    "arr * arr"
   ]
  },
  {
   "cell_type": "code",
   "execution_count": 30,
   "id": "9308276d",
   "metadata": {},
   "outputs": [
    {
     "data": {
      "text/plain": [
       "array([[1.        , 0.5       , 0.33333333],\n",
       "       [0.25      , 0.2       , 0.16666667]])"
      ]
     },
     "execution_count": 30,
     "metadata": {},
     "output_type": "execute_result"
    }
   ],
   "source": [
    "1 / arr"
   ]
  },
  {
   "cell_type": "code",
   "execution_count": 31,
   "id": "88ce6d9a",
   "metadata": {},
   "outputs": [
    {
     "data": {
      "text/plain": [
       "array([[ 0.,  4.,  1.],\n",
       "       [ 7.,  2., 12.]])"
      ]
     },
     "execution_count": 31,
     "metadata": {},
     "output_type": "execute_result"
    }
   ],
   "source": [
    "arr2 = np.array([[0., 4., 1.], [7., 2., 12.]])\n",
    "arr2"
   ]
  },
  {
   "cell_type": "code",
   "execution_count": 32,
   "id": "a84e149c",
   "metadata": {},
   "outputs": [
    {
     "data": {
      "text/plain": [
       "array([[False,  True, False],\n",
       "       [ True, False,  True]])"
      ]
     },
     "execution_count": 32,
     "metadata": {},
     "output_type": "execute_result"
    }
   ],
   "source": [
    "arr2 > arr"
   ]
  },
  {
   "cell_type": "markdown",
   "id": "158558f1",
   "metadata": {},
   "source": [
    "###  Basic Indexing and Slicing"
   ]
  },
  {
   "cell_type": "code",
   "execution_count": 33,
   "id": "724df02a",
   "metadata": {},
   "outputs": [],
   "source": [
    "arr = np.arange(10)"
   ]
  },
  {
   "cell_type": "code",
   "execution_count": 34,
   "id": "bb0fb360",
   "metadata": {},
   "outputs": [
    {
     "data": {
      "text/plain": [
       "array([0, 1, 2, 3, 4, 5, 6, 7, 8, 9])"
      ]
     },
     "execution_count": 34,
     "metadata": {},
     "output_type": "execute_result"
    }
   ],
   "source": [
    "arr"
   ]
  },
  {
   "cell_type": "code",
   "execution_count": 35,
   "id": "d70c91fc",
   "metadata": {},
   "outputs": [
    {
     "data": {
      "text/plain": [
       "array([5, 6, 7])"
      ]
     },
     "execution_count": 35,
     "metadata": {},
     "output_type": "execute_result"
    }
   ],
   "source": [
    "arr[5:8]"
   ]
  },
  {
   "cell_type": "code",
   "execution_count": 36,
   "id": "6b188b95",
   "metadata": {},
   "outputs": [],
   "source": [
    "arr[5:8] = 12"
   ]
  },
  {
   "cell_type": "code",
   "execution_count": 37,
   "id": "717ceb80",
   "metadata": {},
   "outputs": [
    {
     "data": {
      "text/plain": [
       "array([ 0,  1,  2,  3,  4, 12, 12, 12,  8,  9])"
      ]
     },
     "execution_count": 37,
     "metadata": {},
     "output_type": "execute_result"
    }
   ],
   "source": [
    "arr"
   ]
  },
  {
   "cell_type": "markdown",
   "id": "753c7770",
   "metadata": {},
   "source": [
    "An important first distinction from Python’s built-in lists is that array slices are views on the original array.\n",
    "This means that the data is not copied, and any modifications to the view will be\n",
    "reflected in the source array."
   ]
  },
  {
   "cell_type": "code",
   "execution_count": 38,
   "id": "83016220",
   "metadata": {},
   "outputs": [
    {
     "data": {
      "text/plain": [
       "array([12, 12, 12])"
      ]
     },
     "execution_count": 38,
     "metadata": {},
     "output_type": "execute_result"
    }
   ],
   "source": [
    "arr_slice = arr[5:8]\n",
    "arr_slice"
   ]
  },
  {
   "cell_type": "code",
   "execution_count": 39,
   "id": "db1aae52",
   "metadata": {},
   "outputs": [],
   "source": [
    "arr_slice[1] = 12345"
   ]
  },
  {
   "cell_type": "code",
   "execution_count": 40,
   "id": "95c67437",
   "metadata": {},
   "outputs": [
    {
     "data": {
      "text/plain": [
       "array([    0,     1,     2,     3,     4,    12, 12345,    12,     8,\n",
       "           9])"
      ]
     },
     "execution_count": 40,
     "metadata": {},
     "output_type": "execute_result"
    }
   ],
   "source": [
    "arr"
   ]
  },
  {
   "cell_type": "code",
   "execution_count": 42,
   "id": "52e3ed94",
   "metadata": {},
   "outputs": [
    {
     "data": {
      "text/plain": [
       "array([ 0,  1,  2,  3,  4, 64, 64, 64,  8,  9])"
      ]
     },
     "execution_count": 42,
     "metadata": {},
     "output_type": "execute_result"
    }
   ],
   "source": [
    "arr_slice[:] = 64\n",
    "arr"
   ]
  },
  {
   "cell_type": "markdown",
   "id": "804e1ae2",
   "metadata": {},
   "source": [
    "If you want a copy of a slice of an ndarray instead of a view, you\n",
    "will\n",
    "need\n",
    "to\n",
    "explicitly\n",
    "copy\n",
    "the\n",
    "array—for\n",
    "example,\n",
    "arr[5:8].copy()."
   ]
  },
  {
   "cell_type": "code",
   "execution_count": 44,
   "id": "0d54cdff",
   "metadata": {},
   "outputs": [
    {
     "data": {
      "text/plain": [
       "array([[1, 2, 3],\n",
       "       [4, 5, 6],\n",
       "       [7, 8, 9]])"
      ]
     },
     "execution_count": 44,
     "metadata": {},
     "output_type": "execute_result"
    }
   ],
   "source": [
    "arr2d = np.array([[1, 2, 3], [4, 5, 6], [7, 8, 9]])\n",
    "arr2d"
   ]
  },
  {
   "cell_type": "code",
   "execution_count": 45,
   "id": "4c0f938c",
   "metadata": {},
   "outputs": [
    {
     "data": {
      "text/plain": [
       "array([1, 2, 3])"
      ]
     },
     "execution_count": 45,
     "metadata": {},
     "output_type": "execute_result"
    }
   ],
   "source": [
    "arr2d[0]"
   ]
  },
  {
   "cell_type": "code",
   "execution_count": 46,
   "id": "78ebad31",
   "metadata": {},
   "outputs": [
    {
     "data": {
      "text/plain": [
       "3"
      ]
     },
     "execution_count": 46,
     "metadata": {},
     "output_type": "execute_result"
    }
   ],
   "source": [
    "arr2d[0,2]"
   ]
  },
  {
   "cell_type": "code",
   "execution_count": 48,
   "id": "580ac28a",
   "metadata": {},
   "outputs": [
    {
     "data": {
      "text/plain": [
       "3"
      ]
     },
     "execution_count": 48,
     "metadata": {},
     "output_type": "execute_result"
    }
   ],
   "source": [
    "arr2d[0][2]  # the same as the up cell"
   ]
  },
  {
   "cell_type": "code",
   "execution_count": 49,
   "id": "466b1071",
   "metadata": {},
   "outputs": [
    {
     "data": {
      "text/plain": [
       "array([[[ 1,  2,  3],\n",
       "        [ 4,  5,  6]],\n",
       "\n",
       "       [[ 7,  8,  9],\n",
       "        [10, 11, 12]]])"
      ]
     },
     "execution_count": 49,
     "metadata": {},
     "output_type": "execute_result"
    }
   ],
   "source": [
    "arr3d = np.array([[[1, 2, 3], [4, 5, 6]], [[7, 8, 9], [10, 11, 12]]])\n",
    "arr3d"
   ]
  },
  {
   "cell_type": "code",
   "execution_count": 50,
   "id": "707f22f4",
   "metadata": {},
   "outputs": [
    {
     "data": {
      "text/plain": [
       "array([[1, 2, 3],\n",
       "       [4, 5, 6]])"
      ]
     },
     "execution_count": 50,
     "metadata": {},
     "output_type": "execute_result"
    }
   ],
   "source": [
    "arr3d[0]"
   ]
  },
  {
   "cell_type": "code",
   "execution_count": 51,
   "id": "cf32438e",
   "metadata": {},
   "outputs": [],
   "source": [
    "old_values = arr3d[0].copy()"
   ]
  },
  {
   "cell_type": "code",
   "execution_count": 52,
   "id": "ac3bf5ac",
   "metadata": {},
   "outputs": [
    {
     "data": {
      "text/plain": [
       "array([[[42, 42, 42],\n",
       "        [42, 42, 42]],\n",
       "\n",
       "       [[ 7,  8,  9],\n",
       "        [10, 11, 12]]])"
      ]
     },
     "execution_count": 52,
     "metadata": {},
     "output_type": "execute_result"
    }
   ],
   "source": [
    "arr3d[0]=42\n",
    "arr3d"
   ]
  },
  {
   "cell_type": "code",
   "execution_count": 54,
   "id": "5b9a9e1d",
   "metadata": {},
   "outputs": [
    {
     "data": {
      "text/plain": [
       "array([[[ 1,  2,  3],\n",
       "        [ 4,  5,  6]],\n",
       "\n",
       "       [[ 7,  8,  9],\n",
       "        [10, 11, 12]]])"
      ]
     },
     "execution_count": 54,
     "metadata": {},
     "output_type": "execute_result"
    }
   ],
   "source": [
    "arr3d[0]=old_values\n",
    "arr3d"
   ]
  },
  {
   "cell_type": "code",
   "execution_count": 55,
   "id": "c72c20e5",
   "metadata": {},
   "outputs": [
    {
     "data": {
      "text/plain": [
       "array([7, 8, 9])"
      ]
     },
     "execution_count": 55,
     "metadata": {},
     "output_type": "execute_result"
    }
   ],
   "source": [
    "arr3d[1, 0]"
   ]
  },
  {
   "cell_type": "markdown",
   "id": "ba214e31",
   "metadata": {},
   "source": [
    "###  Indexing with slices"
   ]
  },
  {
   "cell_type": "code",
   "execution_count": 56,
   "id": "99484cd7",
   "metadata": {},
   "outputs": [
    {
     "data": {
      "text/plain": [
       "array([ 0,  1,  2,  3,  4, 64, 64, 64,  8,  9])"
      ]
     },
     "execution_count": 56,
     "metadata": {},
     "output_type": "execute_result"
    }
   ],
   "source": [
    "arr"
   ]
  },
  {
   "cell_type": "code",
   "execution_count": 57,
   "id": "486ef81e",
   "metadata": {},
   "outputs": [
    {
     "data": {
      "text/plain": [
       "array([ 1,  2,  3,  4, 64])"
      ]
     },
     "execution_count": 57,
     "metadata": {},
     "output_type": "execute_result"
    }
   ],
   "source": [
    "arr[1:6]"
   ]
  },
  {
   "cell_type": "code",
   "execution_count": 58,
   "id": "a353bc9c",
   "metadata": {},
   "outputs": [
    {
     "data": {
      "text/plain": [
       "array([[1, 2, 3],\n",
       "       [4, 5, 6],\n",
       "       [7, 8, 9]])"
      ]
     },
     "execution_count": 58,
     "metadata": {},
     "output_type": "execute_result"
    }
   ],
   "source": [
    "arr2d"
   ]
  },
  {
   "cell_type": "code",
   "execution_count": 61,
   "id": "c734cd15",
   "metadata": {},
   "outputs": [
    {
     "data": {
      "text/plain": [
       "array([[1, 2, 3],\n",
       "       [4, 5, 6]])"
      ]
     },
     "execution_count": 61,
     "metadata": {},
     "output_type": "execute_result"
    }
   ],
   "source": [
    "arr2d[:2]"
   ]
  },
  {
   "cell_type": "code",
   "execution_count": 62,
   "id": "12b719ab",
   "metadata": {},
   "outputs": [
    {
     "data": {
      "text/plain": [
       "array([[2, 3],\n",
       "       [5, 6]])"
      ]
     },
     "execution_count": 62,
     "metadata": {},
     "output_type": "execute_result"
    }
   ],
   "source": [
    "arr2d[:2, 1:]"
   ]
  },
  {
   "cell_type": "code",
   "execution_count": 63,
   "id": "530aa26b",
   "metadata": {},
   "outputs": [
    {
     "data": {
      "text/plain": [
       "array([[1],\n",
       "       [4],\n",
       "       [7]])"
      ]
     },
     "execution_count": 63,
     "metadata": {},
     "output_type": "execute_result"
    }
   ],
   "source": [
    "arr2d[:, :1]"
   ]
  },
  {
   "cell_type": "code",
   "execution_count": 64,
   "id": "6fdc5e29",
   "metadata": {},
   "outputs": [
    {
     "data": {
      "text/plain": [
       "array([[1, 0, 0],\n",
       "       [4, 0, 0],\n",
       "       [7, 8, 9]])"
      ]
     },
     "execution_count": 64,
     "metadata": {},
     "output_type": "execute_result"
    }
   ],
   "source": [
    "arr2d[:2, 1:] = 0\n",
    "arr2d"
   ]
  },
  {
   "cell_type": "markdown",
   "id": "46ecd080",
   "metadata": {},
   "source": [
    "### Boolean Indexing "
   ]
  },
  {
   "cell_type": "code",
   "execution_count": 65,
   "id": "dafeb20f",
   "metadata": {},
   "outputs": [],
   "source": [
    "names = np.array(['Bob', 'Joe', 'Will', 'Bob', 'Will', 'Joe', 'Joe'])"
   ]
  },
  {
   "cell_type": "code",
   "execution_count": 66,
   "id": "762fd1c0",
   "metadata": {},
   "outputs": [],
   "source": [
    "data = np.random.randn(7, 4)"
   ]
  },
  {
   "cell_type": "code",
   "execution_count": 67,
   "id": "4f7ec127",
   "metadata": {},
   "outputs": [
    {
     "data": {
      "text/plain": [
       "array(['Bob', 'Joe', 'Will', 'Bob', 'Will', 'Joe', 'Joe'], dtype='<U4')"
      ]
     },
     "execution_count": 67,
     "metadata": {},
     "output_type": "execute_result"
    }
   ],
   "source": [
    "names"
   ]
  },
  {
   "cell_type": "code",
   "execution_count": 68,
   "id": "0683dd58",
   "metadata": {},
   "outputs": [
    {
     "data": {
      "text/plain": [
       "array([[ 2.6244219 , -1.83422086,  1.47837332,  0.24996649],\n",
       "       [-1.08925422, -0.81056767,  1.22301045,  1.23443257],\n",
       "       [ 0.55218405, -1.34994149,  1.40375964, -0.90705975],\n",
       "       [-0.32354835,  0.99858548,  0.44262333, -0.19231294],\n",
       "       [ 0.28071139,  1.64626527, -0.65695948, -0.48479275],\n",
       "       [-0.43546289,  1.10910528, -0.13919025,  0.60332908],\n",
       "       [-2.26540139, -0.63448741, -2.08972996, -0.25505125]])"
      ]
     },
     "execution_count": 68,
     "metadata": {},
     "output_type": "execute_result"
    }
   ],
   "source": [
    "data"
   ]
  },
  {
   "cell_type": "code",
   "execution_count": 69,
   "id": "4248eb72",
   "metadata": {},
   "outputs": [
    {
     "data": {
      "text/plain": [
       "array([ True, False, False,  True, False, False, False])"
      ]
     },
     "execution_count": 69,
     "metadata": {},
     "output_type": "execute_result"
    }
   ],
   "source": [
    "names =='Bob'"
   ]
  },
  {
   "cell_type": "code",
   "execution_count": 70,
   "id": "335e8cb2",
   "metadata": {},
   "outputs": [
    {
     "data": {
      "text/plain": [
       "array([[ 2.6244219 , -1.83422086,  1.47837332,  0.24996649],\n",
       "       [-0.32354835,  0.99858548,  0.44262333, -0.19231294]])"
      ]
     },
     "execution_count": 70,
     "metadata": {},
     "output_type": "execute_result"
    }
   ],
   "source": [
    "data[names=='Bob']"
   ]
  },
  {
   "cell_type": "code",
   "execution_count": 71,
   "id": "00d979d1",
   "metadata": {},
   "outputs": [
    {
     "data": {
      "text/plain": [
       "array([[ 1.47837332,  0.24996649],\n",
       "       [ 0.44262333, -0.19231294]])"
      ]
     },
     "execution_count": 71,
     "metadata": {},
     "output_type": "execute_result"
    }
   ],
   "source": [
    "data[names=='Bob', 2:]"
   ]
  },
  {
   "cell_type": "code",
   "execution_count": 72,
   "id": "dcd36e32",
   "metadata": {},
   "outputs": [
    {
     "data": {
      "text/plain": [
       "array([ 0.24996649, -0.19231294])"
      ]
     },
     "execution_count": 72,
     "metadata": {},
     "output_type": "execute_result"
    }
   ],
   "source": [
    "data[names=='Bob', 3]"
   ]
  },
  {
   "cell_type": "code",
   "execution_count": 73,
   "id": "b8c24163",
   "metadata": {},
   "outputs": [
    {
     "data": {
      "text/plain": [
       "array([False,  True,  True, False,  True,  True,  True])"
      ]
     },
     "execution_count": 73,
     "metadata": {},
     "output_type": "execute_result"
    }
   ],
   "source": [
    "names!='Bob'"
   ]
  },
  {
   "cell_type": "code",
   "execution_count": 74,
   "id": "e4861f1f",
   "metadata": {},
   "outputs": [
    {
     "data": {
      "text/plain": [
       "array([[-1.08925422, -0.81056767,  1.22301045,  1.23443257],\n",
       "       [ 0.55218405, -1.34994149,  1.40375964, -0.90705975],\n",
       "       [ 0.28071139,  1.64626527, -0.65695948, -0.48479275],\n",
       "       [-0.43546289,  1.10910528, -0.13919025,  0.60332908],\n",
       "       [-2.26540139, -0.63448741, -2.08972996, -0.25505125]])"
      ]
     },
     "execution_count": 74,
     "metadata": {},
     "output_type": "execute_result"
    }
   ],
   "source": [
    "data[names!='Bob']"
   ]
  },
  {
   "cell_type": "code",
   "execution_count": 75,
   "id": "bbf82c6e",
   "metadata": {},
   "outputs": [
    {
     "data": {
      "text/plain": [
       "array([[-1.08925422, -0.81056767,  1.22301045,  1.23443257],\n",
       "       [ 0.55218405, -1.34994149,  1.40375964, -0.90705975],\n",
       "       [ 0.28071139,  1.64626527, -0.65695948, -0.48479275],\n",
       "       [-0.43546289,  1.10910528, -0.13919025,  0.60332908],\n",
       "       [-2.26540139, -0.63448741, -2.08972996, -0.25505125]])"
      ]
     },
     "execution_count": 75,
     "metadata": {},
     "output_type": "execute_result"
    }
   ],
   "source": [
    "data[~(names=='Bob')]"
   ]
  },
  {
   "cell_type": "code",
   "execution_count": 76,
   "id": "2baa4afa",
   "metadata": {},
   "outputs": [
    {
     "data": {
      "text/plain": [
       "array([[-1.08925422, -0.81056767,  1.22301045,  1.23443257],\n",
       "       [ 0.55218405, -1.34994149,  1.40375964, -0.90705975],\n",
       "       [ 0.28071139,  1.64626527, -0.65695948, -0.48479275],\n",
       "       [-0.43546289,  1.10910528, -0.13919025,  0.60332908],\n",
       "       [-2.26540139, -0.63448741, -2.08972996, -0.25505125]])"
      ]
     },
     "execution_count": 76,
     "metadata": {},
     "output_type": "execute_result"
    }
   ],
   "source": [
    "cond = names == 'Bob'\n",
    "data[~cond]"
   ]
  },
  {
   "cell_type": "code",
   "execution_count": 77,
   "id": "7c3fe6ae",
   "metadata": {},
   "outputs": [
    {
     "data": {
      "text/plain": [
       "array([ True, False,  True,  True,  True, False, False])"
      ]
     },
     "execution_count": 77,
     "metadata": {},
     "output_type": "execute_result"
    }
   ],
   "source": [
    "mask = (names == 'Bob') | (names == 'Will')\n",
    "mask"
   ]
  },
  {
   "cell_type": "code",
   "execution_count": 78,
   "id": "71b74ccb",
   "metadata": {},
   "outputs": [
    {
     "data": {
      "text/plain": [
       "array([[ 2.6244219 , -1.83422086,  1.47837332,  0.24996649],\n",
       "       [ 0.55218405, -1.34994149,  1.40375964, -0.90705975],\n",
       "       [-0.32354835,  0.99858548,  0.44262333, -0.19231294],\n",
       "       [ 0.28071139,  1.64626527, -0.65695948, -0.48479275]])"
      ]
     },
     "execution_count": 78,
     "metadata": {},
     "output_type": "execute_result"
    }
   ],
   "source": [
    "data[mask]"
   ]
  },
  {
   "cell_type": "markdown",
   "id": "a6e06d06",
   "metadata": {},
   "source": [
    "The Python keywords and and or do not work with boolean arrays.\n",
    "Use & (and) and | (or) instead."
   ]
  },
  {
   "cell_type": "code",
   "execution_count": 79,
   "id": "fb0475b1",
   "metadata": {},
   "outputs": [
    {
     "data": {
      "text/plain": [
       "array([[2.6244219 , 0.        , 1.47837332, 0.24996649],\n",
       "       [0.        , 0.        , 1.22301045, 1.23443257],\n",
       "       [0.55218405, 0.        , 1.40375964, 0.        ],\n",
       "       [0.        , 0.99858548, 0.44262333, 0.        ],\n",
       "       [0.28071139, 1.64626527, 0.        , 0.        ],\n",
       "       [0.        , 1.10910528, 0.        , 0.60332908],\n",
       "       [0.        , 0.        , 0.        , 0.        ]])"
      ]
     },
     "execution_count": 79,
     "metadata": {},
     "output_type": "execute_result"
    }
   ],
   "source": [
    "data[data < 0] = 0\n",
    "data"
   ]
  },
  {
   "cell_type": "code",
   "execution_count": 80,
   "id": "2525245c",
   "metadata": {},
   "outputs": [
    {
     "data": {
      "text/plain": [
       "array([[7.        , 7.        , 7.        , 7.        ],\n",
       "       [0.        , 0.        , 1.22301045, 1.23443257],\n",
       "       [7.        , 7.        , 7.        , 7.        ],\n",
       "       [7.        , 7.        , 7.        , 7.        ],\n",
       "       [7.        , 7.        , 7.        , 7.        ],\n",
       "       [0.        , 1.10910528, 0.        , 0.60332908],\n",
       "       [0.        , 0.        , 0.        , 0.        ]])"
      ]
     },
     "execution_count": 80,
     "metadata": {},
     "output_type": "execute_result"
    }
   ],
   "source": [
    "data[names != 'Joe'] = 7\n",
    "data"
   ]
  },
  {
   "cell_type": "markdown",
   "id": "f8ab4c9a",
   "metadata": {},
   "source": [
    "###  Fancy Indexing"
   ]
  },
  {
   "cell_type": "code",
   "execution_count": 81,
   "id": "c43def5a",
   "metadata": {},
   "outputs": [
    {
     "data": {
      "text/plain": [
       "array([[9.64800419e-312, 1.10670705e-321, 0.00000000e+000,\n",
       "        0.00000000e+000],\n",
       "       [2.16007218e-027, 3.16251369e+180, 1.96086892e+243,\n",
       "        1.09476743e-065],\n",
       "       [2.28176682e+243, 5.23584369e-143, 1.29060661e+248,\n",
       "        8.42244190e+252],\n",
       "       [4.90900659e+252, 3.88621453e+285, 5.30992040e+180,\n",
       "        6.34914943e+151],\n",
       "       [3.81391076e+180, 1.61948559e+286, 1.16466606e-028,\n",
       "        1.16071791e-028],\n",
       "       [1.04917089e-142, 4.25963700e-096, 8.37170577e-144,\n",
       "        2.51968629e+180],\n",
       "       [2.87505123e+161, 1.47280336e+179, 2.60222703e+251,\n",
       "        9.13982048e+242],\n",
       "       [1.11530848e+277, 1.06314514e+248, 2.22046252e+142,\n",
       "        6.12033286e+257]])"
      ]
     },
     "execution_count": 81,
     "metadata": {},
     "output_type": "execute_result"
    }
   ],
   "source": [
    "arr = np.empty((8, 4))\n",
    "arr"
   ]
  },
  {
   "cell_type": "code",
   "execution_count": 82,
   "id": "e1ca1e25",
   "metadata": {},
   "outputs": [],
   "source": [
    "for i in range(8):\n",
    "    arr[i]=i"
   ]
  },
  {
   "cell_type": "code",
   "execution_count": 83,
   "id": "81b4469b",
   "metadata": {},
   "outputs": [
    {
     "data": {
      "text/plain": [
       "array([[0., 0., 0., 0.],\n",
       "       [1., 1., 1., 1.],\n",
       "       [2., 2., 2., 2.],\n",
       "       [3., 3., 3., 3.],\n",
       "       [4., 4., 4., 4.],\n",
       "       [5., 5., 5., 5.],\n",
       "       [6., 6., 6., 6.],\n",
       "       [7., 7., 7., 7.]])"
      ]
     },
     "execution_count": 83,
     "metadata": {},
     "output_type": "execute_result"
    }
   ],
   "source": [
    "arr"
   ]
  },
  {
   "cell_type": "markdown",
   "id": "79d3eb62",
   "metadata": {},
   "source": [
    "To select out a subset of the rows in a particular order, you can simply pass a list or\n",
    "ndarray of integers specifying the desired order:"
   ]
  },
  {
   "cell_type": "code",
   "execution_count": 84,
   "id": "3d639a16",
   "metadata": {},
   "outputs": [
    {
     "data": {
      "text/plain": [
       "array([[4., 4., 4., 4.],\n",
       "       [3., 3., 3., 3.],\n",
       "       [0., 0., 0., 0.],\n",
       "       [6., 6., 6., 6.]])"
      ]
     },
     "execution_count": 84,
     "metadata": {},
     "output_type": "execute_result"
    }
   ],
   "source": [
    "arr[[4,3,0,6]]"
   ]
  },
  {
   "cell_type": "code",
   "execution_count": 85,
   "id": "be6d7266",
   "metadata": {},
   "outputs": [
    {
     "data": {
      "text/plain": [
       "array([[5., 5., 5., 5.],\n",
       "       [3., 3., 3., 3.],\n",
       "       [1., 1., 1., 1.]])"
      ]
     },
     "execution_count": 85,
     "metadata": {},
     "output_type": "execute_result"
    }
   ],
   "source": [
    "arr[[-3,-5,-7]]"
   ]
  },
  {
   "cell_type": "code",
   "execution_count": 86,
   "id": "0110623e",
   "metadata": {},
   "outputs": [
    {
     "data": {
      "text/plain": [
       "array([[ 0,  1,  2,  3],\n",
       "       [ 4,  5,  6,  7],\n",
       "       [ 8,  9, 10, 11],\n",
       "       [12, 13, 14, 15],\n",
       "       [16, 17, 18, 19],\n",
       "       [20, 21, 22, 23],\n",
       "       [24, 25, 26, 27],\n",
       "       [28, 29, 30, 31]])"
      ]
     },
     "execution_count": 86,
     "metadata": {},
     "output_type": "execute_result"
    }
   ],
   "source": [
    "arr = np.arange(32).reshape((8, 4))\n",
    "arr"
   ]
  },
  {
   "cell_type": "code",
   "execution_count": 87,
   "id": "88ba15b8",
   "metadata": {},
   "outputs": [
    {
     "data": {
      "text/plain": [
       "array([ 4, 23, 29, 10])"
      ]
     },
     "execution_count": 87,
     "metadata": {},
     "output_type": "execute_result"
    }
   ],
   "source": [
    "arr[[1, 5, 7, 2], [0, 3, 1, 2]]"
   ]
  },
  {
   "cell_type": "markdown",
   "id": "a9c47ca2",
   "metadata": {},
   "source": [
    "Here the elements (1, 0), (5, 3), (7, 1), and (2, 2) were selected. Regardless of\n",
    "how many dimensions the array has (here, only 2), the result of fancy indexing is\n",
    "always one-dimensional."
   ]
  },
  {
   "cell_type": "markdown",
   "id": "54aaa44e",
   "metadata": {},
   "source": [
    "The behavior of fancy indexing in this case is a bit different from what some users\n",
    "might have expected (myself included), which is the rectangular region formed by\n",
    "selecting a subset of the matrix’s rows and columns. Here is one way to get that:"
   ]
  },
  {
   "cell_type": "code",
   "execution_count": 89,
   "id": "c5324920",
   "metadata": {},
   "outputs": [
    {
     "data": {
      "text/plain": [
       "array([[ 4,  7,  5,  6],\n",
       "       [20, 23, 21, 22],\n",
       "       [28, 31, 29, 30],\n",
       "       [ 8, 11,  9, 10]])"
      ]
     },
     "execution_count": 89,
     "metadata": {},
     "output_type": "execute_result"
    }
   ],
   "source": [
    "arr[[1, 5, 7, 2]][:, [0, 3, 1, 2]]"
   ]
  },
  {
   "cell_type": "markdown",
   "id": "7c6a94d4",
   "metadata": {},
   "source": [
    "Keep in mind that fancy indexing, unlike slicing, always copies the data into a new\n",
    "array."
   ]
  },
  {
   "cell_type": "markdown",
   "id": "4a6e70f9",
   "metadata": {},
   "source": [
    "###  Transposing Arrays and Swapping Axes"
   ]
  },
  {
   "cell_type": "markdown",
   "id": "502e3be2",
   "metadata": {},
   "source": [
    "Transposing is a special form of reshaping that similarly returns a view on the under‐\n",
    "lying data without copying anything. Arrays have the transpose method and also the\n",
    "special T attribute:"
   ]
  },
  {
   "cell_type": "code",
   "execution_count": 90,
   "id": "eefa02c7",
   "metadata": {},
   "outputs": [],
   "source": [
    "arr = np.arange(15).reshape((3,5))"
   ]
  },
  {
   "cell_type": "code",
   "execution_count": 91,
   "id": "6568ab8a",
   "metadata": {},
   "outputs": [
    {
     "data": {
      "text/plain": [
       "array([[ 0,  1,  2,  3,  4],\n",
       "       [ 5,  6,  7,  8,  9],\n",
       "       [10, 11, 12, 13, 14]])"
      ]
     },
     "execution_count": 91,
     "metadata": {},
     "output_type": "execute_result"
    }
   ],
   "source": [
    "arr"
   ]
  },
  {
   "cell_type": "code",
   "execution_count": 93,
   "id": "0be48f58",
   "metadata": {},
   "outputs": [
    {
     "data": {
      "text/plain": [
       "array([[ 0,  5, 10],\n",
       "       [ 1,  6, 11],\n",
       "       [ 2,  7, 12],\n",
       "       [ 3,  8, 13],\n",
       "       [ 4,  9, 14]])"
      ]
     },
     "execution_count": 93,
     "metadata": {},
     "output_type": "execute_result"
    }
   ],
   "source": [
    "arr.T #转置"
   ]
  },
  {
   "cell_type": "code",
   "execution_count": 95,
   "id": "87e3d53d",
   "metadata": {},
   "outputs": [
    {
     "data": {
      "text/plain": [
       "array([[-0.73036363, -1.05468405,  0.79270019],\n",
       "       [ 0.59275124,  0.11790131, -1.18431153],\n",
       "       [ 0.74180019, -1.29965721, -0.17716037],\n",
       "       [-0.82490983, -0.19422905,  0.89909757],\n",
       "       [ 1.34440831, -0.36510211, -0.39902257],\n",
       "       [ 2.10430662,  0.22143172, -0.40672681]])"
      ]
     },
     "execution_count": 95,
     "metadata": {},
     "output_type": "execute_result"
    }
   ],
   "source": [
    "#点积\n",
    "arr = np.random.randn(6,3)\n",
    "arr"
   ]
  },
  {
   "cell_type": "code",
   "execution_count": 97,
   "id": "4079aa43",
   "metadata": {},
   "outputs": [
    {
     "data": {
      "text/plain": [
       "array([[ 8.35106886,  0.01143844, -3.5463807 ],\n",
       "       [ 0.01143844,  3.03542453, -0.86444148],\n",
       "       [-3.5463807 , -0.86444148,  3.19537533]])"
      ]
     },
     "execution_count": 97,
     "metadata": {},
     "output_type": "execute_result"
    }
   ],
   "source": [
    "np.dot(arr.T,arr)"
   ]
  },
  {
   "cell_type": "code",
   "execution_count": 98,
   "id": "e4ce98cd",
   "metadata": {},
   "outputs": [
    {
     "data": {
      "text/plain": [
       "array([[[ 0,  1,  2,  3],\n",
       "        [ 4,  5,  6,  7]],\n",
       "\n",
       "       [[ 8,  9, 10, 11],\n",
       "        [12, 13, 14, 15]]])"
      ]
     },
     "execution_count": 98,
     "metadata": {},
     "output_type": "execute_result"
    }
   ],
   "source": [
    "arr = np.arange(16).reshape((2, 2, 4))\n",
    "arr"
   ]
  },
  {
   "cell_type": "code",
   "execution_count": 99,
   "id": "4d1a9fc8",
   "metadata": {},
   "outputs": [
    {
     "data": {
      "text/plain": [
       "array([[[ 0,  1,  2,  3],\n",
       "        [ 8,  9, 10, 11]],\n",
       "\n",
       "       [[ 4,  5,  6,  7],\n",
       "        [12, 13, 14, 15]]])"
      ]
     },
     "execution_count": 99,
     "metadata": {},
     "output_type": "execute_result"
    }
   ],
   "source": [
    "arr.transpose((1, 0, 2))"
   ]
  },
  {
   "cell_type": "markdown",
   "id": "fa917e9b",
   "metadata": {},
   "source": [
    "Here, the axes have been reordered with the second axis first, the first axis second,\n",
    "and the last axis unchanged."
   ]
  },
  {
   "cell_type": "code",
   "execution_count": 100,
   "id": "07c79b18",
   "metadata": {},
   "outputs": [
    {
     "data": {
      "text/plain": [
       "array([[[ 0,  1,  2,  3],\n",
       "        [ 4,  5,  6,  7]],\n",
       "\n",
       "       [[ 8,  9, 10, 11],\n",
       "        [12, 13, 14, 15]]])"
      ]
     },
     "execution_count": 100,
     "metadata": {},
     "output_type": "execute_result"
    }
   ],
   "source": [
    "arr"
   ]
  },
  {
   "cell_type": "code",
   "execution_count": 101,
   "id": "0fc77b34",
   "metadata": {},
   "outputs": [
    {
     "data": {
      "text/plain": [
       "array([[[ 0,  4],\n",
       "        [ 1,  5],\n",
       "        [ 2,  6],\n",
       "        [ 3,  7]],\n",
       "\n",
       "       [[ 8, 12],\n",
       "        [ 9, 13],\n",
       "        [10, 14],\n",
       "        [11, 15]]])"
      ]
     },
     "execution_count": 101,
     "metadata": {},
     "output_type": "execute_result"
    }
   ],
   "source": [
    "arr.swapaxes(1, 2)"
   ]
  },
  {
   "cell_type": "markdown",
   "id": "7b6c79df",
   "metadata": {},
   "source": [
    "##  4.2 Universal Functions: Fast Element-Wise Array Functions"
   ]
  },
  {
   "cell_type": "markdown",
   "id": "72882c59",
   "metadata": {},
   "source": [
    "A universal function, or ufunc, is a function that performs element-wise operations\n",
    "on data in ndarrays. You can think of them as fast vectorized wrappers for simple\n",
    "functions that take one or more scalar values and produce one or more scalar results."
   ]
  },
  {
   "cell_type": "code",
   "execution_count": 102,
   "id": "509f4966",
   "metadata": {},
   "outputs": [
    {
     "data": {
      "text/plain": [
       "array([0, 1, 2, 3, 4, 5, 6, 7, 8, 9])"
      ]
     },
     "execution_count": 102,
     "metadata": {},
     "output_type": "execute_result"
    }
   ],
   "source": [
    "arr = np.arange(10)\n",
    "arr"
   ]
  },
  {
   "cell_type": "code",
   "execution_count": 103,
   "id": "59768ed8",
   "metadata": {},
   "outputs": [
    {
     "data": {
      "text/plain": [
       "array([0.        , 1.        , 1.41421356, 1.73205081, 2.        ,\n",
       "       2.23606798, 2.44948974, 2.64575131, 2.82842712, 3.        ])"
      ]
     },
     "execution_count": 103,
     "metadata": {},
     "output_type": "execute_result"
    }
   ],
   "source": [
    "np.sqrt(arr)"
   ]
  },
  {
   "cell_type": "code",
   "execution_count": 104,
   "id": "abec4831",
   "metadata": {},
   "outputs": [
    {
     "data": {
      "text/plain": [
       "array([1.00000000e+00, 2.71828183e+00, 7.38905610e+00, 2.00855369e+01,\n",
       "       5.45981500e+01, 1.48413159e+02, 4.03428793e+02, 1.09663316e+03,\n",
       "       2.98095799e+03, 8.10308393e+03])"
      ]
     },
     "execution_count": 104,
     "metadata": {},
     "output_type": "execute_result"
    }
   ],
   "source": [
    "np.exp(arr)"
   ]
  },
  {
   "cell_type": "code",
   "execution_count": 108,
   "id": "b8abaf2f",
   "metadata": {},
   "outputs": [
    {
     "name": "stdout",
     "output_type": "stream",
     "text": [
      "[-0.15233034 -0.33655426  0.73431787 -0.02118059  0.15577116  0.36027925\n",
      "  0.4876796   1.14089514] \n",
      "\n",
      "[-0.88568593 -1.25503759 -0.86519487 -0.32527201  1.12757563  1.54412592\n",
      " -0.0885572  -0.19309979] \n",
      "\n"
     ]
    }
   ],
   "source": [
    "x = np.random.randn(8)\n",
    "y = np.random.randn(8)\n",
    "print(x,'\\n')\n",
    "print(y,'\\n')"
   ]
  },
  {
   "cell_type": "code",
   "execution_count": 109,
   "id": "ba4c9157",
   "metadata": {},
   "outputs": [
    {
     "data": {
      "text/plain": [
       "array([-0.15233034, -0.33655426,  0.73431787, -0.02118059,  1.12757563,\n",
       "        1.54412592,  0.4876796 ,  1.14089514])"
      ]
     },
     "execution_count": 109,
     "metadata": {},
     "output_type": "execute_result"
    }
   ],
   "source": [
    "np.maximum(x, y)"
   ]
  },
  {
   "cell_type": "code",
   "execution_count": 110,
   "id": "797b43be",
   "metadata": {},
   "outputs": [
    {
     "name": "stdout",
     "output_type": "stream",
     "text": [
      "[ 0.80100113  1.913      -5.99697796 -1.28322867  2.44346965 -6.92429121\n",
      " -3.91451863] \n",
      "\n",
      "[ 0.80100113  0.913      -0.99697796 -0.28322867  0.44346965 -0.92429121\n",
      " -0.91451863] \n",
      "\n",
      "[ 0.  1. -5. -1.  2. -6. -3.] \n",
      "\n"
     ]
    }
   ],
   "source": [
    "#分离整数和小数\n",
    "arr = np.random.randn(7) * 5\n",
    "print(arr,'\\n')\n",
    "remainder, whole_part = np.modf(arr)\n",
    "print(remainder,'\\n')\n",
    "print(whole_part,'\\n')"
   ]
  },
  {
   "attachments": {
    "image.png": {
     "image/png": "[encoded data removed]"
    }
   },
   "cell_type": "markdown",
   "id": "ea471069",
   "metadata": {},
   "source": [
    "![image.png](attachment:image.png)"
   ]
  },
  {
   "attachments": {
    "image-2.png": {
     "image/png": "[encoded data removed]"
    },
    "image-3.png": {
     "image/png": "[encoded data removed]"
    }
   },
   "cell_type": "markdown",
   "id": "b6e851a0",
   "metadata": {},
   "source": [
    "![image-2.png](attachment:image-2.png)\n",
    "![image-3.png](attachment:image-3.png)"
   ]
  },
  {
   "cell_type": "markdown",
   "id": "c23c28c9",
   "metadata": {},
   "source": [
    "###  Expressing Conditional Logic as Array Operations"
   ]
  },
  {
   "cell_type": "code",
   "execution_count": 113,
   "id": "cefff676",
   "metadata": {},
   "outputs": [],
   "source": [
    "xarr = np.array([1.1, 1.2, 1.3, 1.4, 1.5])\n",
    "yarr = np.array([2.1, 2.2, 2.3, 2.4, 2.5])"
   ]
  },
  {
   "cell_type": "code",
   "execution_count": 114,
   "id": "3f3ba6da",
   "metadata": {},
   "outputs": [],
   "source": [
    "cond = np.array([True, False, True, True, False])"
   ]
  },
  {
   "cell_type": "code",
   "execution_count": 115,
   "id": "d646222e",
   "metadata": {},
   "outputs": [],
   "source": [
    "# if cond true xarr, else yarr\n",
    "result = np.where(cond,xarr,yarr)"
   ]
  },
  {
   "cell_type": "code",
   "execution_count": 116,
   "id": "2535d3aa",
   "metadata": {},
   "outputs": [
    {
     "data": {
      "text/plain": [
       "array([1.1, 2.2, 1.3, 1.4, 2.5])"
      ]
     },
     "execution_count": 116,
     "metadata": {},
     "output_type": "execute_result"
    }
   ],
   "source": [
    "result"
   ]
  },
  {
   "cell_type": "markdown",
   "id": "d48b5b24",
   "metadata": {},
   "source": [
    "The second and third arguments to np.where don’t need to be arrays; one or both of\n",
    "them can be scalars. A typical use of where in data analysis is to produce a new array\n",
    "of values based on another array. Suppose you had a matrix of randomly generated\n",
    "data and you wanted to replace all positive values with 2 and all negative values with\n",
    "–2. This is very easy to do with np.where:"
   ]
  },
  {
   "cell_type": "code",
   "execution_count": 117,
   "id": "657f093d",
   "metadata": {},
   "outputs": [
    {
     "data": {
      "text/plain": [
       "array([[ 4.42241544e-01, -3.32139957e-01,  3.05659636e-01,\n",
       "        -8.06741581e-01],\n",
       "       [-3.17650170e-01,  1.09395681e-03,  1.13549779e+00,\n",
       "        -1.26413893e+00],\n",
       "       [-1.14909042e+00,  2.61731755e+00,  4.48432864e-01,\n",
       "         1.13738709e+00],\n",
       "       [ 7.40088511e-01,  7.82916915e-01, -6.09379773e-02,\n",
       "         3.23674483e-02]])"
      ]
     },
     "execution_count": 117,
     "metadata": {},
     "output_type": "execute_result"
    }
   ],
   "source": [
    "arr = np.random.randn(4,4)\n",
    "arr"
   ]
  },
  {
   "cell_type": "code",
   "execution_count": 118,
   "id": "f882bd53",
   "metadata": {},
   "outputs": [
    {
     "data": {
      "text/plain": [
       "array([[ True, False,  True, False],\n",
       "       [False,  True,  True, False],\n",
       "       [False,  True,  True,  True],\n",
       "       [ True,  True, False,  True]])"
      ]
     },
     "execution_count": 118,
     "metadata": {},
     "output_type": "execute_result"
    }
   ],
   "source": [
    "arr>0"
   ]
  },
  {
   "cell_type": "code",
   "execution_count": 119,
   "id": "f763603b",
   "metadata": {},
   "outputs": [
    {
     "data": {
      "text/plain": [
       "array([[ 2, -2,  2, -2],\n",
       "       [-2,  2,  2, -2],\n",
       "       [-2,  2,  2,  2],\n",
       "       [ 2,  2, -2,  2]])"
      ]
     },
     "execution_count": 119,
     "metadata": {},
     "output_type": "execute_result"
    }
   ],
   "source": [
    "np.where(arr>0,2,-2)"
   ]
  },
  {
   "cell_type": "code",
   "execution_count": 120,
   "id": "3c6b9ce7",
   "metadata": {},
   "outputs": [
    {
     "data": {
      "text/plain": [
       "array([[ 2.        , -0.33213996,  2.        , -0.80674158],\n",
       "       [-0.31765017,  2.        ,  2.        , -1.26413893],\n",
       "       [-1.14909042,  2.        ,  2.        ,  2.        ],\n",
       "       [ 2.        ,  2.        , -0.06093798,  2.        ]])"
      ]
     },
     "execution_count": 120,
     "metadata": {},
     "output_type": "execute_result"
    }
   ],
   "source": [
    "np.where(arr>0,2,arr)"
   ]
  },
  {
   "cell_type": "markdown",
   "id": "e4e6278d",
   "metadata": {},
   "source": [
    "### Mathematical and Statistical Methods"
   ]
  },
  {
   "cell_type": "code",
   "execution_count": 121,
   "id": "63dbcf32",
   "metadata": {},
   "outputs": [
    {
     "data": {
      "text/plain": [
       "array([[ 0.20615048,  0.52563411, -0.03829868, -0.11030303],\n",
       "       [ 0.8010425 ,  0.99895749,  1.68518884, -1.28568217],\n",
       "       [ 0.71150999,  1.23612918,  0.4239345 , -0.26792568],\n",
       "       [-0.77223413, -0.27591817, -0.60378621,  0.30304524],\n",
       "       [ 0.14737849,  1.08085856, -0.74650088, -0.36603738]])"
      ]
     },
     "execution_count": 121,
     "metadata": {},
     "output_type": "execute_result"
    }
   ],
   "source": [
    "arr = np.random.randn(5, 4)\n",
    "arr"
   ]
  },
  {
   "cell_type": "code",
   "execution_count": 122,
   "id": "f074fd86",
   "metadata": {},
   "outputs": [
    {
     "data": {
      "text/plain": [
       "0.18265715231787746"
      ]
     },
     "execution_count": 122,
     "metadata": {},
     "output_type": "execute_result"
    }
   ],
   "source": [
    "arr.mean()"
   ]
  },
  {
   "cell_type": "code",
   "execution_count": 123,
   "id": "c4194e61",
   "metadata": {},
   "outputs": [
    {
     "data": {
      "text/plain": [
       "0.18265715231787746"
      ]
     },
     "execution_count": 123,
     "metadata": {},
     "output_type": "execute_result"
    }
   ],
   "source": [
    "np.mean(arr)"
   ]
  },
  {
   "cell_type": "code",
   "execution_count": 124,
   "id": "3f91f836",
   "metadata": {},
   "outputs": [
    {
     "data": {
      "text/plain": [
       "3.6531430463575494"
      ]
     },
     "execution_count": 124,
     "metadata": {},
     "output_type": "execute_result"
    }
   ],
   "source": [
    "arr.sum()"
   ]
  },
  {
   "cell_type": "code",
   "execution_count": 125,
   "id": "c256a7f0",
   "metadata": {},
   "outputs": [
    {
     "data": {
      "text/plain": [
       "array([ 0.14579572,  0.54987667,  0.525912  , -0.33722332,  0.0289247 ])"
      ]
     },
     "execution_count": 125,
     "metadata": {},
     "output_type": "execute_result"
    }
   ],
   "source": [
    "arr.mean(axis=1)"
   ]
  },
  {
   "cell_type": "code",
   "execution_count": 126,
   "id": "cf04a3fe",
   "metadata": {},
   "outputs": [
    {
     "data": {
      "text/plain": [
       "array([ 0.21876947,  0.71313223,  0.14410752, -0.34538061])"
      ]
     },
     "execution_count": 126,
     "metadata": {},
     "output_type": "execute_result"
    }
   ],
   "source": [
    "arr.mean(axis=0)"
   ]
  },
  {
   "cell_type": "markdown",
   "id": "bd5f4692",
   "metadata": {},
   "source": [
    "Here, arr.mean(1) means “compute mean across the columns” where arr.sum(0)\n",
    "means “compute sum down the rows.”"
   ]
  },
  {
   "cell_type": "markdown",
   "id": "a14f0beb",
   "metadata": {},
   "source": [
    "### Methods for Boolean Arrays"
   ]
  },
  {
   "cell_type": "markdown",
   "id": "45c2b0dc",
   "metadata": {},
   "source": [
    "Boolean values are coerced to 1 (True) and 0 (False) in the preceding methods. Thus,\n",
    "sum is often used as a means of counting True values in a boolean array:"
   ]
  },
  {
   "cell_type": "code",
   "execution_count": 127,
   "id": "0ebf9f4f",
   "metadata": {},
   "outputs": [],
   "source": [
    "arr = np.random.randn(100)"
   ]
  },
  {
   "cell_type": "code",
   "execution_count": 128,
   "id": "642ddab4",
   "metadata": {},
   "outputs": [
    {
     "data": {
      "text/plain": [
       "49"
      ]
     },
     "execution_count": 128,
     "metadata": {},
     "output_type": "execute_result"
    }
   ],
   "source": [
    " (arr > 0).sum() # Number of positive values"
   ]
  },
  {
   "cell_type": "code",
   "execution_count": 129,
   "id": "250021bb",
   "metadata": {},
   "outputs": [],
   "source": [
    "bools = np.array([False, False, True, False])"
   ]
  },
  {
   "cell_type": "code",
   "execution_count": 130,
   "id": "835874c7",
   "metadata": {},
   "outputs": [
    {
     "data": {
      "text/plain": [
       "True"
      ]
     },
     "execution_count": 130,
     "metadata": {},
     "output_type": "execute_result"
    }
   ],
   "source": [
    "bools.any()"
   ]
  },
  {
   "cell_type": "code",
   "execution_count": 131,
   "id": "386308c8",
   "metadata": {},
   "outputs": [
    {
     "data": {
      "text/plain": [
       "False"
      ]
     },
     "execution_count": 131,
     "metadata": {},
     "output_type": "execute_result"
    }
   ],
   "source": [
    "bools.all()"
   ]
  },
  {
   "cell_type": "markdown",
   "id": "4213351f",
   "metadata": {},
   "source": [
    "### Sorting"
   ]
  },
  {
   "cell_type": "code",
   "execution_count": 132,
   "id": "a7471497",
   "metadata": {},
   "outputs": [],
   "source": [
    "arr = np.random.randn(6)"
   ]
  },
  {
   "cell_type": "code",
   "execution_count": 133,
   "id": "dbeeacf5",
   "metadata": {},
   "outputs": [
    {
     "data": {
      "text/plain": [
       "array([-0.81634638,  0.61511846, -1.13321421, -1.28777864, -0.75137646,\n",
       "        1.79559917])"
      ]
     },
     "execution_count": 133,
     "metadata": {},
     "output_type": "execute_result"
    }
   ],
   "source": [
    "arr"
   ]
  },
  {
   "cell_type": "code",
   "execution_count": 134,
   "id": "702f9e13",
   "metadata": {},
   "outputs": [],
   "source": [
    "arr.sort()"
   ]
  },
  {
   "cell_type": "code",
   "execution_count": 135,
   "id": "e3ab1196",
   "metadata": {},
   "outputs": [
    {
     "data": {
      "text/plain": [
       "array([-1.28777864, -1.13321421, -0.81634638, -0.75137646,  0.61511846,\n",
       "        1.79559917])"
      ]
     },
     "execution_count": 135,
     "metadata": {},
     "output_type": "execute_result"
    }
   ],
   "source": [
    "arr"
   ]
  },
  {
   "cell_type": "code",
   "execution_count": 136,
   "id": "c0fa83f2",
   "metadata": {},
   "outputs": [
    {
     "data": {
      "text/plain": [
       "array([[-0.68686584,  0.31873125,  0.76137878],\n",
       "       [ 1.001274  ,  1.23461077,  1.02213495],\n",
       "       [ 0.87948968,  0.08508451,  1.29390061],\n",
       "       [-1.09199067, -2.11089546,  0.77410316],\n",
       "       [ 0.13926033,  0.804446  ,  0.37879162]])"
      ]
     },
     "execution_count": 136,
     "metadata": {},
     "output_type": "execute_result"
    }
   ],
   "source": [
    "arr = np.random.randn(5, 3)\n",
    "arr"
   ]
  },
  {
   "cell_type": "code",
   "execution_count": 138,
   "id": "6803fd17",
   "metadata": {},
   "outputs": [],
   "source": [
    "arr.sort(1) #sort by rows"
   ]
  },
  {
   "cell_type": "code",
   "execution_count": 139,
   "id": "28bb55fe",
   "metadata": {},
   "outputs": [
    {
     "data": {
      "text/plain": [
       "array([[-0.68686584,  0.31873125,  0.76137878],\n",
       "       [ 1.001274  ,  1.02213495,  1.23461077],\n",
       "       [ 0.08508451,  0.87948968,  1.29390061],\n",
       "       [-2.11089546, -1.09199067,  0.77410316],\n",
       "       [ 0.13926033,  0.37879162,  0.804446  ]])"
      ]
     },
     "execution_count": 139,
     "metadata": {},
     "output_type": "execute_result"
    }
   ],
   "source": [
    "arr"
   ]
  },
  {
   "cell_type": "code",
   "execution_count": 141,
   "id": "1778b871",
   "metadata": {},
   "outputs": [],
   "source": [
    "large_arr = np.random.randn(1000)"
   ]
  },
  {
   "cell_type": "code",
   "execution_count": 142,
   "id": "f288b43b",
   "metadata": {},
   "outputs": [],
   "source": [
    "large_arr.sort()"
   ]
  },
  {
   "cell_type": "code",
   "execution_count": 143,
   "id": "ed7d4e17",
   "metadata": {},
   "outputs": [
    {
     "data": {
      "text/plain": [
       "-1.5454594305549991"
      ]
     },
     "execution_count": 143,
     "metadata": {},
     "output_type": "execute_result"
    }
   ],
   "source": [
    "large_arr[int(0.05 * len(large_arr))] # 5% quantile 5分位数"
   ]
  },
  {
   "cell_type": "markdown",
   "id": "fbae0d3f",
   "metadata": {},
   "source": [
    "### Unique and Other Set Logic"
   ]
  },
  {
   "cell_type": "code",
   "execution_count": 144,
   "id": "9ebc5625",
   "metadata": {},
   "outputs": [
    {
     "data": {
      "text/plain": [
       "array(['Bob', 'Joe', 'Will'], dtype='<U4')"
      ]
     },
     "execution_count": 144,
     "metadata": {},
     "output_type": "execute_result"
    }
   ],
   "source": [
    "names = np.array(['Bob', 'Joe', 'Will', 'Bob', 'Will', 'Joe', 'Joe'])\n",
    "np.unique(names)"
   ]
  },
  {
   "cell_type": "code",
   "execution_count": 146,
   "id": "6f7c4476",
   "metadata": {},
   "outputs": [
    {
     "data": {
      "text/plain": [
       "array([1, 2, 3, 4])"
      ]
     },
     "execution_count": 146,
     "metadata": {},
     "output_type": "execute_result"
    }
   ],
   "source": [
    "ints = np.array([3, 3, 3, 2, 2, 1, 1, 4, 4])\n",
    "np.unique(ints)"
   ]
  },
  {
   "cell_type": "code",
   "execution_count": 147,
   "id": "16b50f40",
   "metadata": {},
   "outputs": [
    {
     "data": {
      "text/plain": [
       "array([ True, False, False,  True,  True, False,  True])"
      ]
     },
     "execution_count": 147,
     "metadata": {},
     "output_type": "execute_result"
    }
   ],
   "source": [
    "#判断两个数组里面重合的数\n",
    "values = np.array([6, 0, 0, 3, 2, 5, 6])\n",
    "np.in1d(values, [2,3,6])"
   ]
  },
  {
   "cell_type": "code",
   "execution_count": 148,
   "id": "f1edfd9a",
   "metadata": {},
   "outputs": [
    {
     "data": {
      "text/plain": [
       "array([6, 3, 2, 6])"
      ]
     },
     "execution_count": 148,
     "metadata": {},
     "output_type": "execute_result"
    }
   ],
   "source": [
    "values[np.in1d(values, [2,3,6])]"
   ]
  },
  {
   "cell_type": "markdown",
   "id": "79472f3d",
   "metadata": {},
   "source": [
    "## 4.4 File Input and Output with Arrays"
   ]
  },
  {
   "cell_type": "markdown",
   "id": "b560333c",
   "metadata": {},
   "source": [
    "np.save and np.load are the two workhorse functions for efficiently saving and load‐\n",
    "ing array data on disk. Arrays are saved by default in an uncompressed raw binary\n",
    "format with file extension .npy:"
   ]
  },
  {
   "cell_type": "code",
   "execution_count": 149,
   "id": "7814d05a",
   "metadata": {},
   "outputs": [],
   "source": [
    "arr = np.arange(10)\n",
    "np.save('some_arry',arr)"
   ]
  },
  {
   "cell_type": "code",
   "execution_count": 150,
   "id": "13fc21a0",
   "metadata": {},
   "outputs": [
    {
     "data": {
      "text/plain": [
       "array([0, 1, 2, 3, 4, 5, 6, 7, 8, 9])"
      ]
     },
     "execution_count": 150,
     "metadata": {},
     "output_type": "execute_result"
    }
   ],
   "source": [
    "np.load('some_arry.npy')"
   ]
  },
  {
   "cell_type": "markdown",
   "id": "c9cb8971",
   "metadata": {},
   "source": [
    "## 4.5 Linear Algebra"
   ]
  },
  {
   "cell_type": "code",
   "execution_count": 151,
   "id": "bb8e1386",
   "metadata": {},
   "outputs": [],
   "source": [
    "x = np.array([[1., 2., 3.], [4., 5., 6.]])\n",
    "y = np.array([[6., 23.], [-1, 7], [8, 9]])"
   ]
  },
  {
   "cell_type": "code",
   "execution_count": 152,
   "id": "0ef0d8bb",
   "metadata": {},
   "outputs": [
    {
     "data": {
      "text/plain": [
       "array([[1., 2., 3.],\n",
       "       [4., 5., 6.]])"
      ]
     },
     "execution_count": 152,
     "metadata": {},
     "output_type": "execute_result"
    }
   ],
   "source": [
    "x"
   ]
  },
  {
   "cell_type": "code",
   "execution_count": 153,
   "id": "ea7c11b1",
   "metadata": {},
   "outputs": [
    {
     "data": {
      "text/plain": [
       "array([[ 6., 23.],\n",
       "       [-1.,  7.],\n",
       "       [ 8.,  9.]])"
      ]
     },
     "execution_count": 153,
     "metadata": {},
     "output_type": "execute_result"
    }
   ],
   "source": [
    "y"
   ]
  },
  {
   "cell_type": "code",
   "execution_count": 154,
   "id": "cb8ed444",
   "metadata": {},
   "outputs": [
    {
     "data": {
      "text/plain": [
       "array([[ 28.,  64.],\n",
       "       [ 67., 181.]])"
      ]
     },
     "execution_count": 154,
     "metadata": {},
     "output_type": "execute_result"
    }
   ],
   "source": [
    "x.dot(y)"
   ]
  },
  {
   "cell_type": "code",
   "execution_count": 157,
   "id": "5ac6fd5b",
   "metadata": {},
   "outputs": [
    {
     "data": {
      "text/plain": [
       "array([[ 28.,  64.],\n",
       "       [ 67., 181.]])"
      ]
     },
     "execution_count": 157,
     "metadata": {},
     "output_type": "execute_result"
    }
   ],
   "source": [
    "np.dot(x,y) # they are the same"
   ]
  },
  {
   "cell_type": "code",
   "execution_count": 158,
   "id": "8cd4203e",
   "metadata": {},
   "outputs": [
    {
     "data": {
      "text/plain": [
       "array([ 6., 15.])"
      ]
     },
     "execution_count": 158,
     "metadata": {},
     "output_type": "execute_result"
    }
   ],
   "source": [
    "np.dot(x, np.ones(3))"
   ]
  },
  {
   "cell_type": "code",
   "execution_count": 159,
   "id": "1a5ff6d7",
   "metadata": {},
   "outputs": [
    {
     "data": {
      "text/plain": [
       "array([ 6., 15.])"
      ]
     },
     "execution_count": 159,
     "metadata": {},
     "output_type": "execute_result"
    }
   ],
   "source": [
    "#The @ symbol (as of Python 3.5) also works as an infix operator that performs matrix multiplication:\n",
    "x @ np.ones(3)"
   ]
  },
  {
   "cell_type": "markdown",
   "id": "60d27f22",
   "metadata": {},
   "source": [
    "## 4.6 Pseudorandom Number Generation"
   ]
  },
  {
   "cell_type": "code",
   "execution_count": 166,
   "id": "cf88830e",
   "metadata": {},
   "outputs": [],
   "source": [
    "# you can get a 4 × 4 array of samples from the standard normal distribution using normal:\n",
    "samples = np.random.normal(size=(4,4))"
   ]
  },
  {
   "cell_type": "code",
   "execution_count": 167,
   "id": "fc14d318",
   "metadata": {},
   "outputs": [
    {
     "data": {
      "text/plain": [
       "array([[-1.19210295, -1.553249  , -0.69816028, -0.98728557],\n",
       "       [-0.14472054,  1.46764547,  0.55599584,  0.41122401],\n",
       "       [ 0.84010126,  1.25266539,  0.34125287,  1.41331836],\n",
       "       [ 0.62601207, -1.06972974,  1.39867436, -1.57069215]])"
      ]
     },
     "execution_count": 167,
     "metadata": {},
     "output_type": "execute_result"
    }
   ],
   "source": [
    "samples"
   ]
  },
  {
   "cell_type": "code",
   "execution_count": 173,
   "id": "01a2d14d",
   "metadata": {},
   "outputs": [
    {
     "name": "stdout",
     "output_type": "stream",
     "text": [
      "865 ms ± 54.8 ms per loop (mean ± std. dev. of 7 runs, 1 loop each)\n"
     ]
    }
   ],
   "source": [
    "# python's built in random module\n",
    "from random import normalvariate\n",
    "N=1000000\n",
    "%timeit samples=[normalvariate(0,1) for i in range(N)]"
   ]
  },
  {
   "cell_type": "code",
   "execution_count": 177,
   "id": "a299627a",
   "metadata": {},
   "outputs": [
    {
     "name": "stdout",
     "output_type": "stream",
     "text": [
      "24.2 ms ± 2.12 ms per loop (mean ± std. dev. of 7 runs, 10 loops each)\n"
     ]
    }
   ],
   "source": [
    "%timeit np.random.normal(size=(N))"
   ]
  },
  {
   "cell_type": "markdown",
   "id": "8a145611",
   "metadata": {},
   "source": [
    "We say that these are pseudorandom numbers because they are generated by an algo‐\n",
    "rithm with deterministic behavior based on the seed of the random number genera‐\n",
    "tor. You can change NumPy’s random number generation seed using\n",
    "np.random.seed:"
   ]
  },
  {
   "cell_type": "code",
   "execution_count": 176,
   "id": "61fa9a12",
   "metadata": {},
   "outputs": [],
   "source": [
    "np.random.seed(1234)"
   ]
  },
  {
   "cell_type": "markdown",
   "id": "1c2d8831",
   "metadata": {},
   "source": [
    "The data generation functions in numpy.random use a global random seed. To avoid\n",
    "global state, you can use numpy.random.RandomState to create a random number\n",
    "generator isolated from others:"
   ]
  },
  {
   "cell_type": "code",
   "execution_count": 178,
   "id": "8d12a811",
   "metadata": {},
   "outputs": [],
   "source": [
    "rng = np.random.RandomState(1234)"
   ]
  },
  {
   "cell_type": "code",
   "execution_count": 179,
   "id": "032241e6",
   "metadata": {},
   "outputs": [
    {
     "data": {
      "text/plain": [
       "array([ 0.47143516, -1.19097569,  1.43270697, -0.3126519 , -0.72058873,\n",
       "        0.88716294,  0.85958841, -0.6365235 ,  0.01569637, -2.24268495])"
      ]
     },
     "execution_count": 179,
     "metadata": {},
     "output_type": "execute_result"
    }
   ],
   "source": [
    "rng.randn(10)"
   ]
  },
  {
   "cell_type": "markdown",
   "id": "0f5bd3a7",
   "metadata": {},
   "source": [
    "## 4.7 Example: Random Walks"
   ]
  },
  {
   "cell_type": "markdown",
   "id": "540cc6fb",
   "metadata": {},
   "source": [
    "The simulation of random walks provides an illustrative application of utilizing array\n",
    "operations. Let’s first consider a simple random walk starting at 0 with steps of 1 and\n",
    "–1 occurring with equal probability."
   ]
  },
  {
   "cell_type": "code",
   "execution_count": 180,
   "id": "763fb007",
   "metadata": {},
   "outputs": [],
   "source": [
    "import matplotlib.pyplot as plt"
   ]
  },
  {
   "cell_type": "code",
   "execution_count": 207,
   "id": "5794037b",
   "metadata": {},
   "outputs": [],
   "source": [
    "import random\n",
    "position = 0\n",
    "walk = [position]\n",
    "for i in range(100):\n",
    "    step = 1 if random.randint(0,1) else -1\n",
    "    #print(step)\n",
    "    position += step\n",
    "    walk.append(position)"
   ]
  },
  {
   "cell_type": "code",
   "execution_count": 208,
   "id": "73b53376",
   "metadata": {},
   "outputs": [
    {
     "data": {
      "text/plain": [
       "[<matplotlib.lines.Line2D at 0x1c6afc75a30>]"
      ]
     },
     "execution_count": 208,
     "metadata": {},
     "output_type": "execute_result"
    },
    {
     "data": {
      "image/png": "[encoded data removed]",
      "text/plain": [
       "<Figure size 432x288 with 1 Axes>"
      ]
     },
     "metadata": {
      "needs_background": "light"
     },
     "output_type": "display_data"
    }
   ],
   "source": [
    "plt.plot(walk)"
   ]
  },
  {
   "cell_type": "markdown",
   "id": "bdee371a",
   "metadata": {},
   "source": [
    "You might make the observation that walk is simply the cumulative sum of the ran‐\n",
    "dom steps and could be evaluated as an array expression. Thus, I use the np.random\n",
    "module to draw 1,000 coin flips at once, set these to 1 and –1, and compute the\n",
    "cumulative sum:"
   ]
  },
  {
   "cell_type": "code",
   "execution_count": 214,
   "id": "5f900236",
   "metadata": {},
   "outputs": [],
   "source": [
    "nsteps=1000\n",
    "draws = np.random.randint(0,2,size=nsteps)\n",
    "#print(draws)\n",
    "steps=np.where(draws>0,1,-1)\n",
    "#print(steps)\n",
    "walk = steps.cumsum()"
   ]
  },
  {
   "cell_type": "code",
   "execution_count": 216,
   "id": "2b67bbac",
   "metadata": {},
   "outputs": [
    {
     "data": {
      "text/plain": [
       "[<matplotlib.lines.Line2D at 0x1c6b548b070>]"
      ]
     },
     "execution_count": 216,
     "metadata": {},
     "output_type": "execute_result"
    },
    {
     "data": {
      "image/png": "[encoded data removed]",
      "text/plain": [
       "<Figure size 432x288 with 1 Axes>"
      ]
     },
     "metadata": {
      "needs_background": "light"
     },
     "output_type": "display_data"
    }
   ],
   "source": [
    "plt.plot(walk)"
   ]
  },
  {
   "cell_type": "code",
   "execution_count": 217,
   "id": "161eaa74",
   "metadata": {},
   "outputs": [
    {
     "data": {
      "text/plain": [
       "-19"
      ]
     },
     "execution_count": 217,
     "metadata": {},
     "output_type": "execute_result"
    }
   ],
   "source": [
    "walk.min()"
   ]
  },
  {
   "cell_type": "code",
   "execution_count": 218,
   "id": "f68b0745",
   "metadata": {},
   "outputs": [
    {
     "data": {
      "text/plain": [
       "5"
      ]
     },
     "execution_count": 218,
     "metadata": {},
     "output_type": "execute_result"
    }
   ],
   "source": [
    "walk.max()"
   ]
  },
  {
   "cell_type": "markdown",
   "id": "d6694c4e",
   "metadata": {},
   "source": [
    "A more complicated statistic is the first crossing time, the step at which the random\n",
    "walk reaches a particular value. Here we might want to know how long it took the\n",
    "random walk to get at least 10 steps away from the origin 0 in either direction.\n",
    "np.abs(walk) >= 10 gives us a boolean array indicating where the walk has reached\n",
    "or exceeded 10, but we want the index of the first 10 or –10. Turns out, we can compute this using argmax, which returns the first index of the maximum value in the\n",
    "boolean array (True is the maximum value):"
   ]
  },
  {
   "cell_type": "code",
   "execution_count": 219,
   "id": "b75ccf73",
   "metadata": {},
   "outputs": [
    {
     "data": {
      "text/plain": [
       "array([False, False, False, False, False, False, False, False, False,\n",
       "       False, False, False, False, False, False, False, False, False,\n",
       "       False, False, False, False, False, False, False, False, False,\n",
       "       False, False, False, False, False, False, False, False, False,\n",
       "       False, False, False, False, False, False, False, False, False,\n",
       "       False, False, False, False, False,  True, False,  True,  True,\n",
       "        True,  True,  True, False, False, False, False, False, False,\n",
       "       False, False, False, False, False, False, False,  True, False,\n",
       "       False, False, False, False, False, False, False, False, False,\n",
       "       False,  True, False, False, False, False, False, False, False,\n",
       "       False, False,  True, False,  True,  True,  True,  True,  True,\n",
       "        True,  True,  True,  True,  True,  True,  True,  True,  True,\n",
       "        True, False, False, False, False, False, False, False, False,\n",
       "       False, False, False, False, False, False, False, False, False,\n",
       "       False, False,  True, False, False, False, False, False, False,\n",
       "       False, False, False, False, False, False, False, False, False,\n",
       "       False, False, False, False, False, False, False, False, False,\n",
       "       False, False, False, False, False, False, False, False, False,\n",
       "       False, False, False, False, False, False,  True,  True,  True,\n",
       "        True,  True,  True,  True,  True,  True,  True,  True,  True,\n",
       "        True,  True,  True,  True,  True,  True,  True,  True,  True,\n",
       "        True,  True,  True,  True,  True,  True,  True,  True, False,\n",
       "       False, False, False, False, False, False, False, False, False,\n",
       "       False, False, False, False, False, False, False, False, False,\n",
       "       False, False, False, False, False, False, False, False, False,\n",
       "       False, False, False, False, False, False, False, False, False,\n",
       "       False, False, False, False, False, False, False, False, False,\n",
       "       False,  True,  True,  True, False, False, False, False, False,\n",
       "       False, False, False, False, False, False, False, False, False,\n",
       "       False, False, False, False, False, False, False, False, False,\n",
       "       False, False, False, False, False, False, False, False, False,\n",
       "       False, False, False, False, False, False, False, False, False,\n",
       "       False, False, False, False, False, False, False, False, False,\n",
       "       False, False, False, False, False, False, False, False, False,\n",
       "       False, False, False, False, False, False, False, False, False,\n",
       "       False, False, False,  True, False,  True, False, False, False,\n",
       "       False, False, False, False, False, False, False, False, False,\n",
       "       False, False, False, False, False, False, False, False, False,\n",
       "       False, False, False, False, False, False, False, False, False,\n",
       "       False, False, False, False, False, False, False, False, False,\n",
       "       False, False, False, False, False, False, False, False, False,\n",
       "       False, False, False, False, False, False, False, False, False,\n",
       "       False, False, False, False, False, False, False, False, False,\n",
       "       False, False, False, False, False, False, False, False, False,\n",
       "       False, False, False, False, False, False, False, False, False,\n",
       "       False, False, False, False, False, False, False, False, False,\n",
       "       False, False, False, False, False, False, False, False, False,\n",
       "       False, False, False, False, False, False, False, False, False,\n",
       "       False, False, False, False, False, False, False, False, False,\n",
       "       False, False, False, False, False, False, False, False, False,\n",
       "       False, False, False, False, False, False, False, False, False,\n",
       "       False, False, False, False, False, False, False,  True, False,\n",
       "        True, False, False, False, False, False, False, False,  True,\n",
       "       False, False, False, False, False, False, False, False, False,\n",
       "       False, False,  True, False, False, False, False, False, False,\n",
       "       False, False, False, False, False, False, False, False, False,\n",
       "       False, False, False, False, False, False, False, False, False,\n",
       "       False, False, False, False, False, False, False, False, False,\n",
       "       False, False, False, False, False, False, False, False, False,\n",
       "       False, False, False, False, False, False, False, False, False,\n",
       "       False, False, False, False, False, False, False, False, False,\n",
       "       False, False, False, False, False, False, False, False, False,\n",
       "       False, False, False, False, False, False, False, False, False,\n",
       "       False, False, False, False, False, False, False, False, False,\n",
       "       False, False, False, False, False, False, False, False, False,\n",
       "       False, False, False, False, False, False, False, False, False,\n",
       "       False, False, False, False, False, False, False, False, False,\n",
       "       False, False, False, False, False, False, False, False, False,\n",
       "       False, False, False, False, False, False, False, False, False,\n",
       "       False, False, False, False, False, False, False, False, False,\n",
       "       False, False, False, False, False, False, False, False, False,\n",
       "       False, False, False, False, False, False, False, False, False,\n",
       "       False, False, False, False, False, False, False, False, False,\n",
       "       False, False, False, False, False, False, False, False, False,\n",
       "       False, False, False, False,  True,  True,  True,  True,  True,\n",
       "        True,  True,  True,  True,  True,  True,  True,  True,  True,\n",
       "        True,  True,  True,  True,  True,  True,  True,  True,  True,\n",
       "        True,  True,  True,  True,  True,  True,  True,  True,  True,\n",
       "        True,  True,  True,  True,  True,  True,  True,  True,  True,\n",
       "        True,  True,  True,  True,  True,  True,  True,  True,  True,\n",
       "        True,  True,  True, False,  True,  True,  True,  True,  True,\n",
       "        True,  True,  True,  True,  True,  True,  True,  True,  True,\n",
       "        True,  True,  True,  True,  True,  True,  True,  True,  True,\n",
       "        True,  True,  True,  True,  True,  True,  True,  True,  True,\n",
       "        True,  True,  True,  True,  True, False,  True,  True,  True,\n",
       "        True,  True,  True,  True,  True,  True,  True,  True, False,\n",
       "        True,  True,  True, False, False, False,  True,  True,  True,\n",
       "        True,  True,  True,  True,  True,  True,  True,  True, False,\n",
       "       False, False,  True, False, False, False, False, False, False,\n",
       "       False, False, False, False, False, False, False, False, False,\n",
       "       False, False, False, False, False, False, False, False, False,\n",
       "       False, False, False, False, False, False, False, False, False,\n",
       "       False, False, False, False, False, False, False, False, False,\n",
       "       False,  True,  True,  True, False, False, False,  True, False,\n",
       "        True,  True,  True, False, False, False, False, False, False,\n",
       "       False, False, False, False, False, False, False, False, False,\n",
       "       False, False, False, False, False, False, False, False, False,\n",
       "       False, False, False, False, False, False, False, False, False,\n",
       "       False, False, False, False, False, False, False, False, False,\n",
       "       False, False, False, False, False, False, False, False, False,\n",
       "       False, False, False, False, False, False, False, False, False,\n",
       "       False, False, False, False, False, False, False, False, False,\n",
       "       False, False, False, False, False, False, False, False, False,\n",
       "       False, False, False, False, False, False, False, False, False,\n",
       "       False, False, False, False, False, False, False, False, False,\n",
       "       False, False, False, False, False, False, False, False, False,\n",
       "       False, False, False, False, False, False, False, False, False,\n",
       "       False, False, False, False, False, False, False, False, False,\n",
       "        True, False, False, False,  True,  True,  True,  True,  True,\n",
       "        True,  True,  True,  True,  True,  True,  True,  True,  True,\n",
       "        True,  True,  True,  True,  True,  True,  True,  True,  True,\n",
       "        True])"
      ]
     },
     "execution_count": 219,
     "metadata": {},
     "output_type": "execute_result"
    }
   ],
   "source": [
    "np.abs(walk)>10"
   ]
  },
  {
   "cell_type": "code",
   "execution_count": 220,
   "id": "7764ea64",
   "metadata": {},
   "outputs": [
    {
     "data": {
      "text/plain": [
       "50"
      ]
     },
     "execution_count": 220,
     "metadata": {},
     "output_type": "execute_result"
    }
   ],
   "source": [
    "(np.abs(walk)>10).argmax()"
   ]
  },
  {
   "cell_type": "markdown",
   "id": "5f779ea8",
   "metadata": {},
   "source": [
    "Note that using argmax here is not always efficient because it always makes a full scan\n",
    "of the array. In this special case, once a True is observed we know it to be the maxi‐\n",
    "mum value."
   ]
  },
  {
   "cell_type": "markdown",
   "id": "7d43fceb",
   "metadata": {},
   "source": [
    "### Simulating Many Random Walks at Once"
   ]
  },
  {
   "cell_type": "markdown",
   "id": "9574d471",
   "metadata": {},
   "source": [
    "If your goal was to simulate many random walks, say 5,000 of them, you can generate\n",
    "all of the random walks with minor modifications to the preceding code. If passed a\n",
    "2-tuple, the numpy.random functions will generate a two-dimensional array of draws,\n",
    "and we can compute the cumulative sum across the rows to compute all 5,000 ran‐\n",
    "dom walks in one shot:"
   ]
  },
  {
   "cell_type": "code",
   "execution_count": 221,
   "id": "882ca640",
   "metadata": {},
   "outputs": [],
   "source": [
    "nwalks = 5000\n",
    "nsteps = 1000\n",
    "draws = np.random.randint(0,2,size=(nwalks,nsteps))\n",
    "steps = np.where(draws>0,1,-1)\n",
    "walks = steps.cumsum(1)  #列的累和，行代表每个walk"
   ]
  },
  {
   "cell_type": "code",
   "execution_count": 227,
   "id": "406c572d",
   "metadata": {},
   "outputs": [
    {
     "data": {
      "text/plain": [
       "(5000, 1000)"
      ]
     },
     "execution_count": 227,
     "metadata": {},
     "output_type": "execute_result"
    }
   ],
   "source": [
    "walks.shape"
   ]
  },
  {
   "cell_type": "code",
   "execution_count": 229,
   "id": "65cae8d2",
   "metadata": {},
   "outputs": [
    {
     "name": "stdout",
     "output_type": "stream",
     "text": [
      "108\n",
      "-129\n"
     ]
    }
   ],
   "source": [
    "print(walks.max())\n",
    "print(walks.min())"
   ]
  },
  {
   "cell_type": "markdown",
   "id": "c3043e5b",
   "metadata": {},
   "source": [
    "Out of these walks, let’s compute the minimum crossing time to 30 or –30. This is\n",
    "slightly tricky because not all 5,000 of them reach 30. We can check this using the any\n",
    "method:"
   ]
  },
  {
   "cell_type": "code",
   "execution_count": 248,
   "id": "acad0946",
   "metadata": {},
   "outputs": [],
   "source": [
    "hits30 = (np.abs(walks)>=30).any(1)"
   ]
  },
  {
   "cell_type": "code",
   "execution_count": 249,
   "id": "df6af992",
   "metadata": {},
   "outputs": [
    {
     "data": {
      "text/plain": [
       "array([ True,  True, False, ...,  True,  True, False])"
      ]
     },
     "execution_count": 249,
     "metadata": {},
     "output_type": "execute_result"
    }
   ],
   "source": [
    "hits30"
   ]
  },
  {
   "cell_type": "code",
   "execution_count": 251,
   "id": "7b6bfdf0",
   "metadata": {},
   "outputs": [
    {
     "data": {
      "text/plain": [
       "(5000,)"
      ]
     },
     "execution_count": 251,
     "metadata": {},
     "output_type": "execute_result"
    }
   ],
   "source": [
    "hits30.shape"
   ]
  },
  {
   "cell_type": "code",
   "execution_count": 252,
   "id": "22302a38",
   "metadata": {},
   "outputs": [
    {
     "data": {
      "text/plain": [
       "3401"
      ]
     },
     "execution_count": 252,
     "metadata": {},
     "output_type": "execute_result"
    }
   ],
   "source": [
    "hits30.sum() #number of walks that hit 30 or -30"
   ]
  },
  {
   "cell_type": "code",
   "execution_count": 253,
   "id": "cb4539d9",
   "metadata": {},
   "outputs": [],
   "source": [
    "crossing_time = (np.abs(walks[hits30])>=30).argmax(1)"
   ]
  },
  {
   "cell_type": "code",
   "execution_count": 254,
   "id": "c5ea6931",
   "metadata": {},
   "outputs": [
    {
     "data": {
      "text/plain": [
       "array([353, 297, 317, ..., 383, 273, 241], dtype=int64)"
      ]
     },
     "execution_count": 254,
     "metadata": {},
     "output_type": "execute_result"
    }
   ],
   "source": [
    "crossing_time"
   ]
  },
  {
   "cell_type": "code",
   "execution_count": 255,
   "id": "8597af20",
   "metadata": {},
   "outputs": [
    {
     "data": {
      "text/plain": [
       "59"
      ]
     },
     "execution_count": 255,
     "metadata": {},
     "output_type": "execute_result"
    }
   ],
   "source": [
    "crossing_time.min()"
   ]
  },
  {
   "cell_type": "code",
   "execution_count": null,
   "id": "631369bf",
   "metadata": {},
   "outputs": [],
   "source": []
  }
 ],
 "metadata": {
  "kernelspec": {
   "display_name": "Python 3",
   "language": "python",
   "name": "python3"
  },
  "language_info": {
   "codemirror_mode": {
    "name": "ipython",
    "version": 3
   },
   "file_extension": ".py",
   "mimetype": "text/x-python",
   "name": "python",
   "nbconvert_exporter": "python",
   "pygments_lexer": "ipython3",
   "version": "3.8.8"
  }
 },
 "nbformat": 4,
 "nbformat_minor": 5
}
